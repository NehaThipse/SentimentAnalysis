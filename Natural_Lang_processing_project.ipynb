{
  "nbformat": 4,
  "nbformat_minor": 0,
  "metadata": {
    "colab": {
      "name": "Natural_Lang_processing_project.ipynb",
      "provenance": [],
      "collapsed_sections": [],
      "toc_visible": true,
      "include_colab_link": true
    },
    "kernelspec": {
      "name": "python3",
      "display_name": "Python 3"
    }
  },
  "cells": [
    {
      "cell_type": "markdown",
      "metadata": {
        "id": "view-in-github",
        "colab_type": "text"
      },
      "source": [
        "<a href=\"https://colab.research.google.com/github/NehaThipse/SentimentAnalysis/blob/master/Natural_Lang_processing_project.ipynb\" target=\"_parent\"><img src=\"https://colab.research.google.com/assets/colab-badge.svg\" alt=\"Open In Colab\"/></a>"
      ]
    },
    {
      "cell_type": "markdown",
      "metadata": {
        "id": "VwK5-9FIB-lu",
        "colab_type": "text"
      },
      "source": [
        "# Natural Language Processing"
      ]
    },
    {
      "cell_type": "markdown",
      "metadata": {
        "id": "X1kiO9kACE6s",
        "colab_type": "text"
      },
      "source": [
        "## Importing the libraries"
      ]
    },
    {
      "cell_type": "code",
      "metadata": {
        "id": "K5d_9dg60x-3",
        "colab_type": "code",
        "colab": {}
      },
      "source": [
        "import numpy as np\n",
        "import matplotlib.pyplot as plt\n",
        "import pandas as pd\n",
        "#!pip freeze"
      ],
      "execution_count": 0,
      "outputs": []
    },
    {
      "cell_type": "markdown",
      "metadata": {
        "id": "wTfaCIzdCLPA",
        "colab_type": "text"
      },
      "source": [
        "## Importing the dataset"
      ]
    },
    {
      "cell_type": "code",
      "metadata": {
        "id": "AD-wPj9u05fR",
        "colab_type": "code",
        "colab": {}
      },
      "source": [
        "dataset = pd.read_csv('Restaurant_Reviews.tsv' , delimiter =\"\\t\" , quoting=3)"
      ],
      "execution_count": 0,
      "outputs": []
    },
    {
      "cell_type": "code",
      "metadata": {
        "id": "Al6fDnEw2cJK",
        "colab_type": "code",
        "outputId": "4f166f96-fdc6-4485-ca60-62bae77f98fa",
        "colab": {
          "base_uri": "https://localhost:8080/",
          "height": 34
        }
      },
      "source": [
        "print(dataset.shape[0])"
      ],
      "execution_count": 0,
      "outputs": [
        {
          "output_type": "stream",
          "text": [
            "1007\n"
          ],
          "name": "stdout"
        }
      ]
    },
    {
      "cell_type": "markdown",
      "metadata": {
        "id": "Qekztq71CixT",
        "colab_type": "text"
      },
      "source": [
        "## Cleaning the texts"
      ]
    },
    {
      "cell_type": "code",
      "metadata": {
        "id": "Do5GFDI-1HxI",
        "colab_type": "code",
        "outputId": "77dc243c-4575-4fa8-9590-dfd6515df316",
        "colab": {
          "base_uri": "https://localhost:8080/",
          "height": 50
        }
      },
      "source": [
        "import re\n",
        "import nltk\n",
        "nltk.download('stopwords')\n",
        "from nltk.corpus import stopwords\n",
        "stopwrds = stopwords.words('english')\n",
        " \n",
        "to_be_removed =['not' ,'no' ,'nor' ,\"wasn't\" ,\"wouldn't\",\"weren't\",\"doesn't\" ,\"didn't\" ,\"haven't\", \"isn't\",\"mustn't\",\"won't\"]\n",
        "for w in to_be_removed:\n",
        "  stopwrds.remove(w)\n",
        "\n",
        "\n",
        "\n",
        "from nltk.stem.porter import PorterStemmer\n",
        "ps = PorterStemmer()\n",
        "corpus =[]\n",
        "\n",
        "for i in range(1007):\n",
        "  review = dataset.iloc[i , 0]\n",
        "  review = re.sub('[^a-zA-Z]' , \" \" ,review)\n",
        "  review = review.lower()\n",
        "  review = review.split()\n",
        "\n",
        "  review =[ps.stem(x) for x in review if not x in set(stopwrds)]\n",
        "  review =\" \".join(review)\n",
        "  corpus.append(review)\n",
        "original_corpus = corpus\n",
        "\n",
        "\n"
      ],
      "execution_count": 0,
      "outputs": [
        {
          "output_type": "stream",
          "text": [
            "[nltk_data] Downloading package stopwords to /root/nltk_data...\n",
            "[nltk_data]   Package stopwords is already up-to-date!\n"
          ],
          "name": "stdout"
        }
      ]
    },
    {
      "cell_type": "markdown",
      "metadata": {
        "id": "CLqmAkANCp1-",
        "colab_type": "text"
      },
      "source": [
        "## Creating the Bag of Words model"
      ]
    },
    {
      "cell_type": "code",
      "metadata": {
        "id": "WxehxdbE1uaL",
        "colab_type": "code",
        "colab": {}
      },
      "source": [
        "from sklearn.feature_extraction.text import CountVectorizer\n",
        "cv = CountVectorizer(max_features=1500)#len(x[0])\n",
        "x = cv.fit_transform(corpus).toarray()\n",
        "y = dataset.iloc[: , -1].values\n"
      ],
      "execution_count": 0,
      "outputs": []
    },
    {
      "cell_type": "markdown",
      "metadata": {
        "id": "DH_VjgPzC2cd",
        "colab_type": "text"
      },
      "source": [
        "## Splitting the dataset into the Training set and Test set"
      ]
    },
    {
      "cell_type": "code",
      "metadata": {
        "id": "ryO9V6AS5EY9",
        "colab_type": "code",
        "colab": {}
      },
      "source": [
        "from sklearn.model_selection import train_test_split\n",
        "x_train ,x_test , y_train , y_test = train_test_split(x,y,test_size =0.2)#random_state=0"
      ],
      "execution_count": 0,
      "outputs": []
    },
    {
      "cell_type": "markdown",
      "metadata": {
        "id": "P8ZcZtKFC35j",
        "colab_type": "text"
      },
      "source": [
        "## **1) Naive** **Bayes**"
      ]
    },
    {
      "cell_type": "markdown",
      "metadata": {
        "id": "VkIq23vEDIPt",
        "colab_type": "text"
      },
      "source": [
        "### Training the Naive Bayes model on the Training set"
      ]
    },
    {
      "cell_type": "code",
      "metadata": {
        "id": "k_U5GlRH6IQ_",
        "colab_type": "code",
        "outputId": "305b2689-f37e-4900-c4dd-cd50c778d3db",
        "colab": {
          "base_uri": "https://localhost:8080/",
          "height": 34
        }
      },
      "source": [
        "from sklearn.naive_bayes import GaussianNB\n",
        "naive = GaussianNB()\n",
        "naive.fit(x_train , y_train)"
      ],
      "execution_count": 0,
      "outputs": [
        {
          "output_type": "execute_result",
          "data": {
            "text/plain": [
              "GaussianNB(priors=None, var_smoothing=1e-09)"
            ]
          },
          "metadata": {
            "tags": []
          },
          "execution_count": 280
        }
      ]
    },
    {
      "cell_type": "markdown",
      "metadata": {
        "id": "o7lRKHuYDLoS",
        "colab_type": "text"
      },
      "source": [
        "## predicting result"
      ]
    },
    {
      "cell_type": "code",
      "metadata": {
        "id": "a-6-sgZxDKw9",
        "colab_type": "code",
        "colab": {}
      },
      "source": [
        "y_pred_naive = naive.predict(x_test)\n",
        "#print(np.concatenate(( y_test.reshape(len(y_test),1) , y_pred_naive.reshape(len(y_pred_naive) ,1)  ),1))"
      ],
      "execution_count": 0,
      "outputs": []
    },
    {
      "cell_type": "markdown",
      "metadata": {
        "id": "qUDGtT50DW5-",
        "colab_type": "text"
      },
      "source": [
        "## Confusion matrix and accuracy"
      ]
    },
    {
      "cell_type": "code",
      "metadata": {
        "id": "1tFUHY1NDbMU",
        "colab_type": "code",
        "outputId": "5dc8c289-9eb2-4930-a357-9366b39d40e5",
        "colab": {
          "base_uri": "https://localhost:8080/",
          "height": 67
        }
      },
      "source": [
        "from sklearn.metrics import accuracy_score ,confusion_matrix\n",
        "print(accuracy_score(y_test,y_pred_naive))\n",
        "print(confusion_matrix(y_test ,y_pred_naive))"
      ],
      "execution_count": 0,
      "outputs": [
        {
          "output_type": "stream",
          "text": [
            "0.7227722772277227\n",
            "[[57 37]\n",
            " [19 89]]\n"
          ],
          "name": "stdout"
        }
      ]
    },
    {
      "cell_type": "markdown",
      "metadata": {
        "id": "y07mJh7BDDy8",
        "colab_type": "text"
      },
      "source": [
        "## **2) Logistic** **regression**"
      ]
    },
    {
      "cell_type": "markdown",
      "metadata": {
        "id": "iSKJmTJiCepn",
        "colab_type": "text"
      },
      "source": [
        "##Training the Logistic regression model on the Training set"
      ]
    },
    {
      "cell_type": "code",
      "metadata": {
        "id": "UenzEyZ59Mxd",
        "colab_type": "code",
        "outputId": "582aad6a-7526-4ef5-8729-cccfb37fdb76",
        "colab": {
          "base_uri": "https://localhost:8080/",
          "height": 101
        }
      },
      "source": [
        "from sklearn.linear_model import LogisticRegression\n",
        "lr = LogisticRegression()\n",
        "lr.fit(x_train,y_train)"
      ],
      "execution_count": 0,
      "outputs": [
        {
          "output_type": "execute_result",
          "data": {
            "text/plain": [
              "LogisticRegression(C=1.0, class_weight=None, dual=False, fit_intercept=True,\n",
              "                   intercept_scaling=1, l1_ratio=None, max_iter=100,\n",
              "                   multi_class='auto', n_jobs=None, penalty='l2',\n",
              "                   random_state=None, solver='lbfgs', tol=0.0001, verbose=0,\n",
              "                   warm_start=False)"
            ]
          },
          "metadata": {
            "tags": []
          },
          "execution_count": 284
        }
      ]
    },
    {
      "cell_type": "markdown",
      "metadata": {
        "id": "3-21GOF5D35p",
        "colab_type": "text"
      },
      "source": [
        "## predicting result"
      ]
    },
    {
      "cell_type": "code",
      "metadata": {
        "id": "MbbOCKtdD70O",
        "colab_type": "code",
        "colab": {}
      },
      "source": [
        "y_pred_lr = lr.predict(x_test)"
      ],
      "execution_count": 0,
      "outputs": []
    },
    {
      "cell_type": "markdown",
      "metadata": {
        "id": "xoMltea5Dir1",
        "colab_type": "text"
      },
      "source": [
        "## Confusion matrix and accuracy"
      ]
    },
    {
      "cell_type": "code",
      "metadata": {
        "id": "W499u4liEHAT",
        "colab_type": "code",
        "outputId": "ff717711-4ee2-4be2-bc4e-7396417c6e9e",
        "colab": {
          "base_uri": "https://localhost:8080/",
          "height": 67
        }
      },
      "source": [
        "from sklearn.metrics import accuracy_score ,confusion_matrix\n",
        "print(accuracy_score(y_test,y_pred_lr))\n",
        "print(confusion_matrix(y_test ,y_pred_lr))"
      ],
      "execution_count": 0,
      "outputs": [
        {
          "output_type": "stream",
          "text": [
            "0.7772277227722773\n",
            "[[79 15]\n",
            " [30 78]]\n"
          ],
          "name": "stdout"
        }
      ]
    },
    {
      "cell_type": "markdown",
      "metadata": {
        "id": "PdpdfYz8TzTP",
        "colab_type": "text"
      },
      "source": [
        "##**3)Support Vector Machine**"
      ]
    },
    {
      "cell_type": "markdown",
      "metadata": {
        "id": "KuXAZtwmT7zE",
        "colab_type": "text"
      },
      "source": [
        "##Training the Logistic regression model on the Training set"
      ]
    },
    {
      "cell_type": "code",
      "metadata": {
        "id": "BOlMDCK1T4Ds",
        "colab_type": "code",
        "outputId": "1a8af9d5-d9a7-46e4-eaf6-c4ad031e895a",
        "colab": {
          "base_uri": "https://localhost:8080/",
          "height": 84
        }
      },
      "source": [
        "from sklearn.svm import SVC\n",
        "svmClassifier = SVC(kernel = 'linear')\n",
        "svmClassifier.fit(x_train, y_train)"
      ],
      "execution_count": 0,
      "outputs": [
        {
          "output_type": "execute_result",
          "data": {
            "text/plain": [
              "SVC(C=1.0, break_ties=False, cache_size=200, class_weight=None, coef0=0.0,\n",
              "    decision_function_shape='ovr', degree=3, gamma='scale', kernel='linear',\n",
              "    max_iter=-1, probability=False, random_state=None, shrinking=True,\n",
              "    tol=0.001, verbose=False)"
            ]
          },
          "metadata": {
            "tags": []
          },
          "execution_count": 288
        }
      ]
    },
    {
      "cell_type": "markdown",
      "metadata": {
        "id": "BE3wRGNiUFjw",
        "colab_type": "text"
      },
      "source": [
        "##Predicting result"
      ]
    },
    {
      "cell_type": "code",
      "metadata": {
        "id": "bCqorRasUJ1O",
        "colab_type": "code",
        "colab": {}
      },
      "source": [
        "y_pred_svm = svmClassifier.predict(x_test)"
      ],
      "execution_count": 0,
      "outputs": []
    },
    {
      "cell_type": "markdown",
      "metadata": {
        "id": "eRgQ5hJwUQh0",
        "colab_type": "text"
      },
      "source": [
        "##Confusion Martrix and accuracy"
      ]
    },
    {
      "cell_type": "code",
      "metadata": {
        "id": "J1gCAusJUcy5",
        "colab_type": "code",
        "outputId": "00fddf8d-e3e9-4f74-e8f0-77c06c6d20be",
        "colab": {
          "base_uri": "https://localhost:8080/",
          "height": 67
        }
      },
      "source": [
        "from sklearn.metrics import accuracy_score ,confusion_matrix\n",
        "print(accuracy_score(y_test,y_pred_svm))\n",
        "print(confusion_matrix(y_test ,y_pred_svm))"
      ],
      "execution_count": 0,
      "outputs": [
        {
          "output_type": "stream",
          "text": [
            "0.806930693069307\n",
            "[[79 15]\n",
            " [24 84]]\n"
          ],
          "name": "stdout"
        }
      ]
    },
    {
      "cell_type": "markdown",
      "metadata": {
        "id": "8LAl6mJWWNfp",
        "colab_type": "text"
      },
      "source": [
        "## saving the model"
      ]
    },
    {
      "cell_type": "code",
      "metadata": {
        "id": "T8MnmGOSWPaT",
        "colab_type": "code",
        "outputId": "be27644c-e9a8-44b7-9280-ebdbbd7f0532",
        "colab": {
          "base_uri": "https://localhost:8080/",
          "height": 34
        }
      },
      "source": [
        "'''from sklearn.externals import joblib\n",
        "joblib.dump(svmClassifier ,'svm_model')'''"
      ],
      "execution_count": 0,
      "outputs": [
        {
          "output_type": "execute_result",
          "data": {
            "text/plain": [
              "['svm_model']"
            ]
          },
          "metadata": {
            "tags": []
          },
          "execution_count": 302
        }
      ]
    },
    {
      "cell_type": "markdown",
      "metadata": {
        "id": "-X7uAZc4QhED",
        "colab_type": "text"
      },
      "source": [
        "##**4)Random Forest**"
      ]
    },
    {
      "cell_type": "markdown",
      "metadata": {
        "id": "a7vohepSQpuV",
        "colab_type": "text"
      },
      "source": [
        "##Training the Random forest model on the Training set"
      ]
    },
    {
      "cell_type": "code",
      "metadata": {
        "id": "M6mi3jNHQewG",
        "colab_type": "code",
        "outputId": "ddc34a9f-c5ac-4146-d094-7885084646b6",
        "colab": {
          "base_uri": "https://localhost:8080/",
          "height": 151
        }
      },
      "source": [
        "from sklearn.ensemble import RandomForestClassifier\n",
        "randomforestClassifier = RandomForestClassifier(n_estimators = 10, criterion = 'entropy', random_state = 0)\n",
        "randomforestClassifier.fit(x_train, y_train)"
      ],
      "execution_count": 0,
      "outputs": [
        {
          "output_type": "execute_result",
          "data": {
            "text/plain": [
              "RandomForestClassifier(bootstrap=True, ccp_alpha=0.0, class_weight=None,\n",
              "                       criterion='entropy', max_depth=None, max_features='auto',\n",
              "                       max_leaf_nodes=None, max_samples=None,\n",
              "                       min_impurity_decrease=0.0, min_impurity_split=None,\n",
              "                       min_samples_leaf=1, min_samples_split=2,\n",
              "                       min_weight_fraction_leaf=0.0, n_estimators=10,\n",
              "                       n_jobs=None, oob_score=False, random_state=0, verbose=0,\n",
              "                       warm_start=False)"
            ]
          },
          "metadata": {
            "tags": []
          },
          "execution_count": 292
        }
      ]
    },
    {
      "cell_type": "markdown",
      "metadata": {
        "id": "AkM9FkjPQvPD",
        "colab_type": "text"
      },
      "source": [
        "##Predicting result"
      ]
    },
    {
      "cell_type": "code",
      "metadata": {
        "id": "IRHNbSnaRHnb",
        "colab_type": "code",
        "colab": {}
      },
      "source": [
        "y_pred_randomF = randomforestClassifier.predict(x_test)"
      ],
      "execution_count": 0,
      "outputs": []
    },
    {
      "cell_type": "markdown",
      "metadata": {
        "id": "2SlRiVyCRGpk",
        "colab_type": "text"
      },
      "source": [
        "##Confusion Martrix and accuracy"
      ]
    },
    {
      "cell_type": "code",
      "metadata": {
        "id": "keVJDDxkRPjT",
        "colab_type": "code",
        "outputId": "1fd7d74e-d42f-4669-bf96-2877acec7514",
        "colab": {
          "base_uri": "https://localhost:8080/",
          "height": 67
        }
      },
      "source": [
        "from sklearn.metrics import accuracy_score ,confusion_matrix\n",
        "print(accuracy_score(y_test,y_pred_randomF))\n",
        "print(confusion_matrix(y_test ,y_pred_randomF))"
      ],
      "execution_count": 0,
      "outputs": [
        {
          "output_type": "stream",
          "text": [
            "0.6782178217821783\n",
            "[[76 18]\n",
            " [47 61]]\n"
          ],
          "name": "stdout"
        }
      ]
    },
    {
      "cell_type": "markdown",
      "metadata": {
        "id": "cSLyG4wMR4Az",
        "colab_type": "text"
      },
      "source": [
        "##**5)Kernel SVM**"
      ]
    },
    {
      "cell_type": "markdown",
      "metadata": {
        "id": "8tXzqnQMR7er",
        "colab_type": "text"
      },
      "source": [
        "##Training the kernel SVM model on the Training set"
      ]
    },
    {
      "cell_type": "code",
      "metadata": {
        "id": "hc5vzu0ER3Lt",
        "colab_type": "code",
        "outputId": "168be0d5-741d-4767-8439-67c61ae1f807",
        "colab": {
          "base_uri": "https://localhost:8080/",
          "height": 84
        }
      },
      "source": [
        "from sklearn.svm import SVC\n",
        "kernelsvmClassifier = SVC(kernel = 'rbf', random_state = 0)\n",
        "kernelsvmClassifier.fit(x_train, y_train)"
      ],
      "execution_count": 0,
      "outputs": [
        {
          "output_type": "execute_result",
          "data": {
            "text/plain": [
              "SVC(C=1.0, break_ties=False, cache_size=200, class_weight=None, coef0=0.0,\n",
              "    decision_function_shape='ovr', degree=3, gamma='scale', kernel='rbf',\n",
              "    max_iter=-1, probability=False, random_state=0, shrinking=True, tol=0.001,\n",
              "    verbose=False)"
            ]
          },
          "metadata": {
            "tags": []
          },
          "execution_count": 295
        }
      ]
    },
    {
      "cell_type": "markdown",
      "metadata": {
        "id": "MqMTADVbSGsa",
        "colab_type": "text"
      },
      "source": [
        "##Predicting result"
      ]
    },
    {
      "cell_type": "code",
      "metadata": {
        "id": "hzvgrw4xSGKL",
        "colab_type": "code",
        "colab": {}
      },
      "source": [
        "y_pred_kernelSVM =kernelsvmClassifier.predict(x_test) "
      ],
      "execution_count": 0,
      "outputs": []
    },
    {
      "cell_type": "markdown",
      "metadata": {
        "id": "tLBuaYtISX9W",
        "colab_type": "text"
      },
      "source": [
        "##Confusion Martrix and accuracy"
      ]
    },
    {
      "cell_type": "code",
      "metadata": {
        "id": "5gNSl7kCSYha",
        "colab_type": "code",
        "outputId": "0b2091c1-5379-4641-abf4-0ca1c4247474",
        "colab": {
          "base_uri": "https://localhost:8080/",
          "height": 67
        }
      },
      "source": [
        "from sklearn.metrics import accuracy_score ,confusion_matrix\n",
        "print(accuracy_score(y_test,y_pred_kernelSVM))\n",
        "print(confusion_matrix(y_test ,y_pred_kernelSVM))"
      ],
      "execution_count": 0,
      "outputs": [
        {
          "output_type": "stream",
          "text": [
            "0.7821782178217822\n",
            "[[84 10]\n",
            " [34 74]]\n"
          ],
          "name": "stdout"
        }
      ]
    },
    {
      "cell_type": "markdown",
      "metadata": {
        "id": "12ApnVmNE5Kz",
        "colab_type": "text"
      },
      "source": [
        "##**Making new prediction with SVM**"
      ]
    },
    {
      "cell_type": "code",
      "metadata": {
        "id": "0tq3zcPNFHFk",
        "colab_type": "code",
        "outputId": "fb3a14e8-e5c7-4b57-91dd-29d0e384bc93",
        "colab": {
          "base_uri": "https://localhost:8080/",
          "height": 118
        }
      },
      "source": [
        "from nltk.stem.porter import PorterStemmer\n",
        "ps2 = PorterStemmer()\n",
        "text = input('Enter new review :')\n",
        "new_review = re.sub('[^a-zA-Z]' ,\" \" ,text)\n",
        "new_review = new_review.lower()\n",
        "new_review = new_review.split()\n",
        "new_review = [ps2.stem(x) for x in new_review if not x in set(stopwrds)]\n",
        "new_review = \" \".join(new_review)\n",
        "#print(new_review)\n",
        "new_corpus =[new_review]\n",
        "\n",
        "'''from sklearn.feature_extraction.text import CountVectorizer\n",
        "cv2 = CountVectorizer(max_features=1500)'''\n",
        "\n",
        "cvmodel = joblib.load('cv_model')\n",
        "corpus2 =cvmodel.transform(new_corpus).toarray()\n",
        "\n",
        "#my = new_corpus[-1].reshape(1,-1)\n",
        "\n",
        "\n",
        "#or my\n",
        "\n",
        "\n",
        "if svmClassifier.predict(corpus2)==0:\n",
        "  print('svm:negtive')\n",
        "else:\n",
        "  print('svm:positive')\n",
        "\n",
        "if lr.predict(corpus2)==0:\n",
        "  print('lr:negtive')\n",
        "else:\n",
        "  print('lr:positive')\n",
        "\n",
        "if kernelsvmClassifier.predict(corpus2)==0:\n",
        "  print('kernelsvmClassifier:negtive')\n",
        "else:\n",
        "  print('kernelsvmClassifier:positive')\n",
        "\n",
        "if randomforestClassifier.predict(corpus2)==0:\n",
        "  print('randomforestClassifier:negtive')\n",
        "else:\n",
        "  print('randomforestClassifier:positive')\n",
        "if naive.predict(corpus2)==0:\n",
        "  print('naive:negtive')\n",
        "else:\n",
        "  print('naive:positive')\n"
      ],
      "execution_count": 0,
      "outputs": [
        {
          "output_type": "stream",
          "text": [
            "Enter new review :isnt good\n",
            "svm:positive\n",
            "lr:positive\n",
            "kernelsvmClassifier:positive\n",
            "randomforestClassifier:negtive\n",
            "naive:positive\n"
          ],
          "name": "stdout"
        }
      ]
    }
  ]
}